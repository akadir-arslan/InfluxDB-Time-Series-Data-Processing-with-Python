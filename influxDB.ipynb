{
 "cells": [
  {
   "cell_type": "markdown",
   "metadata": {},
   "source": [
    "# ***InfluxDB Time-Series Data Processing with Python***\n",
    "#### `Name & Surname: Abdulkadir Arslan`"
   ]
  },
  {
   "cell_type": "markdown",
   "metadata": {},
   "source": [
    "### **1.** I downloaded InfluxDB from [its official website](https://www.influxdata.com/downloads/) onto my native operating system (Windows) and installed it by the instructions given on the website. I started InfluxDB with Windows Powershell and the configuration has been done on the InfluxDB UI. Organization, user, bucket, and API token were created via the web browser."
   ]
  },
  {
   "cell_type": "markdown",
   "metadata": {},
   "source": [
    "### **2.** *Installation of the Libraries*"
   ]
  },
  {
   "cell_type": "code",
   "execution_count": 1,
   "metadata": {},
   "outputs": [],
   "source": [
    "#pip install influxdb_client"
   ]
  },
  {
   "cell_type": "code",
   "execution_count": 2,
   "metadata": {},
   "outputs": [],
   "source": [
    "#pip install influxdb_client.client.write_api"
   ]
  },
  {
   "cell_type": "markdown",
   "metadata": {},
   "source": [
    "### **3.** Developing a Python Application for `Moisture` Measurements"
   ]
  },
  {
   "cell_type": "markdown",
   "metadata": {},
   "source": [
    "#### **3.1** Imports"
   ]
  },
  {
   "cell_type": "code",
   "execution_count": 3,
   "metadata": {},
   "outputs": [],
   "source": [
    "from influxdb_client import InfluxDBClient, Point, WritePrecision\n",
    "from influxdb_client.client.write_api import SYNCHRONOUS\n",
    "import random\n",
    "import datetime"
   ]
  },
  {
   "cell_type": "markdown",
   "metadata": {},
   "source": [
    "#### **3.2** InfluxDB Credentials"
   ]
  },
  {
   "cell_type": "code",
   "execution_count": 4,
   "metadata": {},
   "outputs": [],
   "source": [
    "client = InfluxDBClient(url=\"http://localhost:8086\", \n",
    "                        token=\"J5pM7sJgjogp9-QByCuA97epf4zxCspI6t1b7pxIqOwE186YvLwz7ljsdXbLCZuX2RAHHn1E8m37f1jrD1jtJw==\", \n",
    "                        bucket=\"Big_Data_Task1\", \n",
    "                        org=\"FH_Kiel\")\n",
    "\n",
    "write_api = client.write_api(write_options=SYNCHRONOUS)"
   ]
  },
  {
   "cell_type": "markdown",
   "metadata": {},
   "source": [
    "#### **3.3** Creating Random Measurements"
   ]
  },
  {
   "cell_type": "code",
   "execution_count": 5,
   "metadata": {},
   "outputs": [
    {
     "name": "stdout",
     "output_type": "stream",
     "text": [
      "Creation of 100 elements completed!\n"
     ]
    }
   ],
   "source": [
    "measurement = \"moisture_level\"\n",
    "locations = [\"living-room\", \"bathroom\", \"balcony\", \"bedroom\", \"kitchen\"]\n",
    "sensor_types = [\"capacitive_sensor\", \"resistive_sensor\", \"conductive_sensor\"]\n",
    "\n",
    "def generate_random_moisture_level():\n",
    "    return random.uniform(0, 100)  \n",
    "\n",
    "generated_count = 0\n",
    "\n",
    "for i in range(100):\n",
    "    timestamp = datetime.datetime.utcnow() - datetime.timedelta(minutes=i)\n",
    "    moisture_level = generate_random_moisture_level()\n",
    "    location = random.choice(locations)\n",
    "    sensor_type = random.choice(sensor_types)\n",
    "\n",
    "    point = Point(\"moisture_level\")\\\n",
    "        .tag(\"location\", location)\\\n",
    "        .tag(\"sensor_type\", sensor_type)\\\n",
    "        .field(\"value\", moisture_level)\\\n",
    "        .time(timestamp, WritePrecision.NS)\n",
    "\n",
    "    write_api.write(bucket=\"Big_Data_Task1\", org=\"FH_Kiel\", record=point)\n",
    "    \n",
    "    generated_count += 1\n",
    "\n",
    "confirmation_message = \"Creation of {} elements completed!\".format(generated_count)\n",
    "print(confirmation_message)\n"
   ]
  },
  {
   "cell_type": "markdown",
   "metadata": {},
   "source": [
    "#### **3.4** Retrieving the Created Measurements (Extracting and Displaying)"
   ]
  },
  {
   "cell_type": "code",
   "execution_count": 6,
   "metadata": {},
   "outputs": [
    {
     "name": "stdout",
     "output_type": "stream",
     "text": [
      "Time: 2024-04-29 17:23:42.619584+00:00, Location: balcony, Sensor Type: capacitive_sensor, Moisture Level: 14.29294174691792%\n",
      "Time: 2024-04-29 17:40:42.531217+00:00, Location: balcony, Sensor Type: capacitive_sensor, Moisture Level: 48.90652534176007%\n",
      "Time: 2024-04-29 17:52:42.469642+00:00, Location: balcony, Sensor Type: capacitive_sensor, Moisture Level: 66.96365685221787%\n",
      "Time: 2024-04-29 18:21:42.300134+00:00, Location: balcony, Sensor Type: capacitive_sensor, Moisture Level: 5.044966979011189%\n",
      "Time: 2024-04-29 18:32:42.154193+00:00, Location: balcony, Sensor Type: capacitive_sensor, Moisture Level: 26.431929277635092%\n",
      "Time: 2024-04-29 18:52:51.499410+00:00, Location: balcony, Sensor Type: capacitive_sensor, Moisture Level: 3.561489581728372%\n",
      "Time: 2024-04-29 18:55:41.762806+00:00, Location: balcony, Sensor Type: capacitive_sensor, Moisture Level: 78.37727179770773%\n",
      "Time: 2024-04-29 19:10:51.249469+00:00, Location: balcony, Sensor Type: capacitive_sensor, Moisture Level: 17.119197146193887%\n",
      "Time: 2024-04-29 19:14:51.182012+00:00, Location: balcony, Sensor Type: capacitive_sensor, Moisture Level: 82.85073200155374%\n",
      "Time: 2024-04-29 19:17:51.099864+00:00, Location: balcony, Sensor Type: capacitive_sensor, Moisture Level: 30.725547341585212%\n",
      "Time: 2024-04-29 17:28:42.590683+00:00, Location: balcony, Sensor Type: conductive_sensor, Moisture Level: 77.8384887759141%\n",
      "Time: 2024-04-29 17:50:42.480152+00:00, Location: balcony, Sensor Type: conductive_sensor, Moisture Level: 13.376882374953825%\n",
      "Time: 2024-04-29 18:05:42.402830+00:00, Location: balcony, Sensor Type: conductive_sensor, Moisture Level: 37.082857548148%\n",
      "Time: 2024-04-29 18:24:51.830282+00:00, Location: balcony, Sensor Type: conductive_sensor, Moisture Level: 88.13033888037835%\n",
      "Time: 2024-04-29 18:33:51.701807+00:00, Location: balcony, Sensor Type: conductive_sensor, Moisture Level: 24.54700723961205%\n",
      "Time: 2024-04-29 18:39:51.628640+00:00, Location: balcony, Sensor Type: conductive_sensor, Moisture Level: 91.95099934679818%\n",
      "Time: 2024-04-29 18:46:41.971245+00:00, Location: balcony, Sensor Type: conductive_sensor, Moisture Level: 87.3037937252475%\n",
      "Time: 2024-04-29 18:46:51.565647+00:00, Location: balcony, Sensor Type: conductive_sensor, Moisture Level: 15.364856078465394%\n",
      "Time: 2024-04-29 18:47:51.540219+00:00, Location: balcony, Sensor Type: conductive_sensor, Moisture Level: 77.52811328684625%\n",
      "Time: 2024-04-29 18:50:41.858234+00:00, Location: balcony, Sensor Type: conductive_sensor, Moisture Level: 71.12647602356007%\n",
      "Time: 2024-04-29 19:35:50.907496+00:00, Location: balcony, Sensor Type: conductive_sensor, Moisture Level: 24.08282560153985%\n",
      "Time: 2024-04-29 19:52:50.665487+00:00, Location: balcony, Sensor Type: conductive_sensor, Moisture Level: 7.3763303449297375%\n",
      "Time: 2024-04-29 17:33:42.569675+00:00, Location: balcony, Sensor Type: resistive_sensor, Moisture Level: 63.78890348685224%\n",
      "Time: 2024-04-29 17:34:42.565210+00:00, Location: balcony, Sensor Type: resistive_sensor, Moisture Level: 4.986887078719615%\n",
      "Time: 2024-04-29 18:01:42.423240+00:00, Location: balcony, Sensor Type: resistive_sensor, Moisture Level: 81.88204237505286%\n",
      "Time: 2024-04-29 18:11:42.353821+00:00, Location: balcony, Sensor Type: resistive_sensor, Moisture Level: 99.55111992260018%\n",
      "Time: 2024-04-29 18:18:51.948036+00:00, Location: balcony, Sensor Type: resistive_sensor, Moisture Level: 57.93400143248232%\n",
      "Time: 2024-04-29 18:19:51.913451+00:00, Location: balcony, Sensor Type: resistive_sensor, Moisture Level: 47.77222989341824%\n",
      "Time: 2024-04-29 18:26:51.800174+00:00, Location: balcony, Sensor Type: resistive_sensor, Moisture Level: 58.26527953233539%\n",
      "Time: 2024-04-29 18:39:42.073803+00:00, Location: balcony, Sensor Type: resistive_sensor, Moisture Level: 20.77900525448182%\n",
      "Time: 2024-04-29 18:43:51.587477+00:00, Location: balcony, Sensor Type: resistive_sensor, Moisture Level: 3.294593803672652%\n",
      "Time: 2024-04-29 18:49:51.519406+00:00, Location: balcony, Sensor Type: resistive_sensor, Moisture Level: 60.53324315716677%\n",
      "Time: 2024-04-29 18:54:41.772397+00:00, Location: balcony, Sensor Type: resistive_sensor, Moisture Level: 41.0294571226451%\n",
      "Time: 2024-04-29 18:54:51.477829+00:00, Location: balcony, Sensor Type: resistive_sensor, Moisture Level: 44.98005466629614%\n",
      "Time: 2024-04-29 19:07:51.287754+00:00, Location: balcony, Sensor Type: resistive_sensor, Moisture Level: 54.238284087835765%\n",
      "Time: 2024-04-29 19:11:51.244538+00:00, Location: balcony, Sensor Type: resistive_sensor, Moisture Level: 1.581384382434492%\n",
      "Time: 2024-04-29 19:18:51.092061+00:00, Location: balcony, Sensor Type: resistive_sensor, Moisture Level: 70.34678768825448%\n",
      "Time: 2024-04-29 19:31:50.955197+00:00, Location: balcony, Sensor Type: resistive_sensor, Moisture Level: 36.41597929914517%\n",
      "Time: 2024-04-29 19:48:50.763795+00:00, Location: balcony, Sensor Type: resistive_sensor, Moisture Level: 35.668732318853635%\n",
      "Time: 2024-04-29 17:31:42.580101+00:00, Location: bathroom, Sensor Type: capacitive_sensor, Moisture Level: 9.531941477772465%\n",
      "Time: 2024-04-29 18:16:51.964264+00:00, Location: bathroom, Sensor Type: capacitive_sensor, Moisture Level: 30.299391048701054%\n",
      "Time: 2024-04-29 18:23:42.287227+00:00, Location: bathroom, Sensor Type: capacitive_sensor, Moisture Level: 61.93786343956342%\n",
      "Time: 2024-04-29 18:44:41.990752+00:00, Location: bathroom, Sensor Type: capacitive_sensor, Moisture Level: 54.22452139493318%\n",
      "Time: 2024-04-29 18:48:51.531509+00:00, Location: bathroom, Sensor Type: capacitive_sensor, Moisture Level: 32.01770774673094%\n",
      "Time: 2024-04-29 18:59:41.619538+00:00, Location: bathroom, Sensor Type: capacitive_sensor, Moisture Level: 88.74472178545466%\n",
      "Time: 2024-04-29 19:01:51.365235+00:00, Location: bathroom, Sensor Type: capacitive_sensor, Moisture Level: 71.7214344091068%\n",
      "Time: 2024-04-29 19:40:50.857399+00:00, Location: bathroom, Sensor Type: capacitive_sensor, Moisture Level: 5.131939589685208%\n",
      "Time: 2024-04-29 19:45:50.801816+00:00, Location: bathroom, Sensor Type: capacitive_sensor, Moisture Level: 0.6896397363157947%\n",
      "Time: 2024-04-29 19:51:50.677528+00:00, Location: bathroom, Sensor Type: capacitive_sensor, Moisture Level: 11.037280124533822%\n",
      "Time: 2024-04-29 17:22:42.624233+00:00, Location: bathroom, Sensor Type: conductive_sensor, Moisture Level: 38.22081749354177%\n",
      "Time: 2024-04-29 17:47:42.492537+00:00, Location: bathroom, Sensor Type: conductive_sensor, Moisture Level: 11.428369347205415%\n",
      "Time: 2024-04-29 18:06:42.396779+00:00, Location: bathroom, Sensor Type: conductive_sensor, Moisture Level: 12.294477977140739%\n",
      "Time: 2024-04-29 18:23:51.858843+00:00, Location: bathroom, Sensor Type: conductive_sensor, Moisture Level: 83.64695411203788%\n",
      "Time: 2024-04-29 18:27:42.219008+00:00, Location: bathroom, Sensor Type: conductive_sensor, Moisture Level: 44.290021731366636%\n",
      "Time: 2024-04-29 18:28:51.767049+00:00, Location: bathroom, Sensor Type: conductive_sensor, Moisture Level: 34.59146283435906%\n",
      "Time: 2024-04-29 18:47:41.911478+00:00, Location: bathroom, Sensor Type: conductive_sensor, Moisture Level: 75.08188456580295%\n",
      "Time: 2024-04-29 18:58:51.407376+00:00, Location: bathroom, Sensor Type: conductive_sensor, Moisture Level: 10.26124993676416%\n",
      "Time: 2024-04-29 19:04:51.328419+00:00, Location: bathroom, Sensor Type: conductive_sensor, Moisture Level: 62.75213994872316%\n",
      "Time: 2024-04-29 19:22:51.043740+00:00, Location: bathroom, Sensor Type: conductive_sensor, Moisture Level: 13.21901470258091%\n",
      "Time: 2024-04-29 19:36:50.898120+00:00, Location: bathroom, Sensor Type: conductive_sensor, Moisture Level: 67.60832868914906%\n",
      "Time: 2024-04-29 19:39:50.862274+00:00, Location: bathroom, Sensor Type: conductive_sensor, Moisture Level: 93.70639257348743%\n",
      "Time: 2024-04-29 17:35:42.561665+00:00, Location: bathroom, Sensor Type: resistive_sensor, Moisture Level: 31.81565834943977%\n",
      "Time: 2024-04-29 17:37:42.551147+00:00, Location: bathroom, Sensor Type: resistive_sensor, Moisture Level: 18.399389353376428%\n",
      "Time: 2024-04-29 17:49:42.485138+00:00, Location: bathroom, Sensor Type: resistive_sensor, Moisture Level: 41.59869037585457%\n",
      "Time: 2024-04-29 17:58:42.438415+00:00, Location: bathroom, Sensor Type: resistive_sensor, Moisture Level: 38.40830278604488%\n",
      "Time: 2024-04-29 18:04:42.408359+00:00, Location: bathroom, Sensor Type: resistive_sensor, Moisture Level: 55.5954914119042%\n",
      "Time: 2024-04-29 18:07:42.388478+00:00, Location: bathroom, Sensor Type: resistive_sensor, Moisture Level: 77.47820546356523%\n",
      "Time: 2024-04-29 18:16:42.333336+00:00, Location: bathroom, Sensor Type: resistive_sensor, Moisture Level: 55.20961126630367%\n",
      "Time: 2024-04-29 18:24:42.280909+00:00, Location: bathroom, Sensor Type: resistive_sensor, Moisture Level: 46.99352984409734%\n",
      "Time: 2024-04-29 18:30:42.166773+00:00, Location: bathroom, Sensor Type: resistive_sensor, Moisture Level: 48.94236598389578%\n",
      "Time: 2024-04-29 18:30:51.750193+00:00, Location: bathroom, Sensor Type: resistive_sensor, Moisture Level: 90.28781120636066%\n",
      "Time: 2024-04-29 18:31:42.158780+00:00, Location: bathroom, Sensor Type: resistive_sensor, Moisture Level: 67.69571572777049%\n",
      "Time: 2024-04-29 18:40:42.068272+00:00, Location: bathroom, Sensor Type: resistive_sensor, Moisture Level: 25.372069479231097%\n",
      "Time: 2024-04-29 18:42:51.604969+00:00, Location: bathroom, Sensor Type: resistive_sensor, Moisture Level: 29.827159143227977%\n",
      "Time: 2024-04-29 19:01:40.913788+00:00, Location: bathroom, Sensor Type: resistive_sensor, Moisture Level: 41.59360059362874%\n",
      "Time: 2024-04-29 19:02:51.355193+00:00, Location: bathroom, Sensor Type: resistive_sensor, Moisture Level: 68.39862998916027%\n",
      "Time: 2024-04-29 19:03:51.335777+00:00, Location: bathroom, Sensor Type: resistive_sensor, Moisture Level: 52.19910444820671%\n",
      "Time: 2024-04-29 19:08:51.282218+00:00, Location: bathroom, Sensor Type: resistive_sensor, Moisture Level: 8.421491319264396%\n",
      "Time: 2024-04-29 19:28:50.995125+00:00, Location: bathroom, Sensor Type: resistive_sensor, Moisture Level: 17.01546677890424%\n",
      "Time: 2024-04-29 17:39:42.535938+00:00, Location: bedroom, Sensor Type: capacitive_sensor, Moisture Level: 42.42701544377307%\n",
      "Time: 2024-04-29 17:44:42.512807+00:00, Location: bedroom, Sensor Type: capacitive_sensor, Moisture Level: 85.64631779645454%\n",
      "Time: 2024-04-29 17:57:42.441917+00:00, Location: bedroom, Sensor Type: capacitive_sensor, Moisture Level: 86.16640812895687%\n",
      "Time: 2024-04-29 18:09:42.371576+00:00, Location: bedroom, Sensor Type: capacitive_sensor, Moisture Level: 16.263556096246557%\n",
      "Time: 2024-04-29 18:12:42.350671+00:00, Location: bedroom, Sensor Type: capacitive_sensor, Moisture Level: 32.639512544728134%\n",
      "Time: 2024-04-29 18:13:42.347171+00:00, Location: bedroom, Sensor Type: capacitive_sensor, Moisture Level: 88.54672662990275%\n",
      "Time: 2024-04-29 18:29:42.186796+00:00, Location: bedroom, Sensor Type: capacitive_sensor, Moisture Level: 31.34371585074769%\n",
      "Time: 2024-04-29 18:31:51.735252+00:00, Location: bedroom, Sensor Type: capacitive_sensor, Moisture Level: 68.72077824027303%\n",
      "Time: 2024-04-29 18:34:42.136031+00:00, Location: bedroom, Sensor Type: capacitive_sensor, Moisture Level: 14.200984628370172%\n",
      "Time: 2024-04-29 18:35:51.667297+00:00, Location: bedroom, Sensor Type: capacitive_sensor, Moisture Level: 60.66227986559846%\n",
      "Time: 2024-04-29 18:48:41.900692+00:00, Location: bedroom, Sensor Type: capacitive_sensor, Moisture Level: 0.7581021567038326%\n",
      "Time: 2024-04-29 18:53:51.492952+00:00, Location: bedroom, Sensor Type: capacitive_sensor, Moisture Level: 84.87729832660085%\n",
      "Time: 2024-04-29 18:58:41.635538+00:00, Location: bedroom, Sensor Type: capacitive_sensor, Moisture Level: 41.08856486405921%\n",
      "Time: 2024-04-29 19:15:51.157439+00:00, Location: bedroom, Sensor Type: capacitive_sensor, Moisture Level: 84.10298834971417%\n",
      "Time: 2024-04-29 17:29:42.587205+00:00, Location: bedroom, Sensor Type: conductive_sensor, Moisture Level: 58.36106800574347%\n",
      "Time: 2024-04-29 17:30:42.584370+00:00, Location: bedroom, Sensor Type: conductive_sensor, Moisture Level: 74.0278874628322%\n",
      "Time: 2024-04-29 17:38:42.539956+00:00, Location: bedroom, Sensor Type: conductive_sensor, Moisture Level: 20.479530551351%\n",
      "Time: 2024-04-29 17:46:42.496238+00:00, Location: bedroom, Sensor Type: conductive_sensor, Moisture Level: 49.711498684434034%\n",
      "Time: 2024-04-29 17:51:42.474131+00:00, Location: bedroom, Sensor Type: conductive_sensor, Moisture Level: 94.31473005793632%\n",
      "Time: 2024-04-29 18:22:51.868424+00:00, Location: bedroom, Sensor Type: conductive_sensor, Moisture Level: 84.60120649932279%\n",
      "Time: 2024-04-29 18:41:42.060067+00:00, Location: bedroom, Sensor Type: conductive_sensor, Moisture Level: 3.4497977019433024%\n",
      "Time: 2024-04-29 18:45:51.573999+00:00, Location: bedroom, Sensor Type: conductive_sensor, Moisture Level: 85.85744938584688%\n",
      "Time: 2024-04-29 19:19:51.084138+00:00, Location: bedroom, Sensor Type: conductive_sensor, Moisture Level: 81.345790075156%\n",
      "Time: 2024-04-29 19:27:51.001068+00:00, Location: bedroom, Sensor Type: conductive_sensor, Moisture Level: 38.02569282463983%\n",
      "Time: 2024-04-29 18:03:42.415844+00:00, Location: bedroom, Sensor Type: resistive_sensor, Moisture Level: 25.68478883848765%\n",
      "Time: 2024-04-29 18:10:42.356894+00:00, Location: bedroom, Sensor Type: resistive_sensor, Moisture Level: 20.91478312834457%\n",
      "Time: 2024-04-29 18:35:42.126898+00:00, Location: bedroom, Sensor Type: resistive_sensor, Moisture Level: 27.63702690076081%\n",
      "Time: 2024-04-29 18:41:51.613540+00:00, Location: bedroom, Sensor Type: resistive_sensor, Moisture Level: 85.68647049587592%\n",
      "Time: 2024-04-29 18:59:51.393231+00:00, Location: bedroom, Sensor Type: resistive_sensor, Moisture Level: 37.526462333162804%\n",
      "Time: 2024-04-29 19:20:51.068019+00:00, Location: bedroom, Sensor Type: resistive_sensor, Moisture Level: 58.15281136705469%\n",
      "Time: 2024-04-29 19:26:51.011354+00:00, Location: bedroom, Sensor Type: resistive_sensor, Moisture Level: 96.98418497929607%\n",
      "Time: 2024-04-29 19:38:50.872089+00:00, Location: bedroom, Sensor Type: resistive_sensor, Moisture Level: 55.086420446397554%\n",
      "Time: 2024-04-29 19:42:50.838238+00:00, Location: bedroom, Sensor Type: resistive_sensor, Moisture Level: 7.7826964265412695%\n",
      "Time: 2024-04-29 19:44:50.812077+00:00, Location: bedroom, Sensor Type: resistive_sensor, Moisture Level: 51.406982931034996%\n",
      "Time: 2024-04-29 17:25:42.606454+00:00, Location: kitchen, Sensor Type: capacitive_sensor, Moisture Level: 40.66526033269901%\n",
      "Time: 2024-04-29 17:27:42.599046+00:00, Location: kitchen, Sensor Type: capacitive_sensor, Moisture Level: 83.87606844015804%\n",
      "Time: 2024-04-29 17:56:42.447593+00:00, Location: kitchen, Sensor Type: capacitive_sensor, Moisture Level: 4.778416895307657%\n",
      "Time: 2024-04-29 18:15:42.337501+00:00, Location: kitchen, Sensor Type: capacitive_sensor, Moisture Level: 86.78725837733525%\n",
      "Time: 2024-04-29 18:18:42.320788+00:00, Location: kitchen, Sensor Type: capacitive_sensor, Moisture Level: 66.52464210952232%\n",
      "Time: 2024-04-29 18:19:42.311045+00:00, Location: kitchen, Sensor Type: capacitive_sensor, Moisture Level: 44.235409700351504%\n",
      "Time: 2024-04-29 18:20:51.897676+00:00, Location: kitchen, Sensor Type: capacitive_sensor, Moisture Level: 98.70569046343905%\n",
      "Time: 2024-04-29 18:26:42.226091+00:00, Location: kitchen, Sensor Type: capacitive_sensor, Moisture Level: 89.3655055469311%\n",
      "Time: 2024-04-29 18:38:42.085722+00:00, Location: kitchen, Sensor Type: capacitive_sensor, Moisture Level: 82.0895650661133%\n",
      "Time: 2024-04-29 18:40:51.619285+00:00, Location: kitchen, Sensor Type: capacitive_sensor, Moisture Level: 59.950254519160374%\n",
      "Time: 2024-04-29 18:43:42.004912+00:00, Location: kitchen, Sensor Type: capacitive_sensor, Moisture Level: 81.09052580520458%\n",
      "Time: 2024-04-29 18:45:41.976273+00:00, Location: kitchen, Sensor Type: capacitive_sensor, Moisture Level: 28.354775498549166%\n",
      "Time: 2024-04-29 19:09:51.270318+00:00, Location: kitchen, Sensor Type: capacitive_sensor, Moisture Level: 29.623722867789613%\n",
      "Time: 2024-04-29 19:16:51.114826+00:00, Location: kitchen, Sensor Type: capacitive_sensor, Moisture Level: 81.9258522128989%\n",
      "Time: 2024-04-29 19:21:51.057869+00:00, Location: kitchen, Sensor Type: capacitive_sensor, Moisture Level: 19.088920331340308%\n",
      "Time: 2024-04-29 19:25:51.019267+00:00, Location: kitchen, Sensor Type: capacitive_sensor, Moisture Level: 51.59732143510921%\n",
      "Time: 2024-04-29 19:41:50.845908+00:00, Location: kitchen, Sensor Type: capacitive_sensor, Moisture Level: 92.96965697289825%\n",
      "Time: 2024-04-29 19:43:50.830234+00:00, Location: kitchen, Sensor Type: capacitive_sensor, Moisture Level: 91.14623899132856%\n",
      "Time: 2024-04-29 19:53:50.657937+00:00, Location: kitchen, Sensor Type: capacitive_sensor, Moisture Level: 16.725843982363074%\n",
      "Time: 2024-04-29 19:54:50.624814+00:00, Location: kitchen, Sensor Type: capacitive_sensor, Moisture Level: 91.49752921654286%\n",
      "Time: 2024-04-29 17:41:42.525437+00:00, Location: kitchen, Sensor Type: conductive_sensor, Moisture Level: 15.951326963139667%\n",
      "Time: 2024-04-29 17:45:42.503065+00:00, Location: kitchen, Sensor Type: conductive_sensor, Moisture Level: 95.31500262780378%\n",
      "Time: 2024-04-29 17:53:42.465040+00:00, Location: kitchen, Sensor Type: conductive_sensor, Moisture Level: 61.90521133550513%\n",
      "Time: 2024-04-29 18:17:42.328235+00:00, Location: kitchen, Sensor Type: conductive_sensor, Moisture Level: 62.87431321365422%\n",
      "Time: 2024-04-29 18:17:51.956427+00:00, Location: kitchen, Sensor Type: conductive_sensor, Moisture Level: 1.5175837953461668%\n",
      "Time: 2024-04-29 18:22:42.291291+00:00, Location: kitchen, Sensor Type: conductive_sensor, Moisture Level: 22.23381767916075%\n",
      "Time: 2024-04-29 18:29:51.756079+00:00, Location: kitchen, Sensor Type: conductive_sensor, Moisture Level: 74.25632189948163%\n",
      "Time: 2024-04-29 18:33:42.143649+00:00, Location: kitchen, Sensor Type: conductive_sensor, Moisture Level: 0.13515875191425497%\n",
      "Time: 2024-04-29 18:36:42.119476+00:00, Location: kitchen, Sensor Type: conductive_sensor, Moisture Level: 46.34508566158251%\n",
      "Time: 2024-04-29 18:37:42.091001+00:00, Location: kitchen, Sensor Type: conductive_sensor, Moisture Level: 77.20801674414565%\n",
      "Time: 2024-04-29 18:50:51.512840+00:00, Location: kitchen, Sensor Type: conductive_sensor, Moisture Level: 73.04044477479722%\n",
      "Time: 2024-04-29 18:56:51.443274+00:00, Location: kitchen, Sensor Type: conductive_sensor, Moisture Level: 44.96015680570468%\n",
      "Time: 2024-04-29 19:05:51.306670+00:00, Location: kitchen, Sensor Type: conductive_sensor, Moisture Level: 65.48763310198473%\n",
      "Time: 2024-04-29 19:06:51.297847+00:00, Location: kitchen, Sensor Type: conductive_sensor, Moisture Level: 30.931734080621574%\n",
      "Time: 2024-04-29 19:12:51.204764+00:00, Location: kitchen, Sensor Type: conductive_sensor, Moisture Level: 84.30189060624284%\n",
      "Time: 2024-04-29 19:13:51.196729+00:00, Location: kitchen, Sensor Type: conductive_sensor, Moisture Level: 50.81041202939457%\n",
      "Time: 2024-04-29 19:55:50.532833+00:00, Location: kitchen, Sensor Type: conductive_sensor, Moisture Level: 33.38779697784554%\n",
      "Time: 2024-04-29 17:43:42.516994+00:00, Location: kitchen, Sensor Type: resistive_sensor, Moisture Level: 43.02406899077318%\n",
      "Time: 2024-04-29 17:54:42.457337+00:00, Location: kitchen, Sensor Type: resistive_sensor, Moisture Level: 98.31683539804999%\n",
      "Time: 2024-04-29 18:21:51.880822+00:00, Location: kitchen, Sensor Type: resistive_sensor, Moisture Level: 10.511430855446358%\n",
      "Time: 2024-04-29 18:25:42.241962+00:00, Location: kitchen, Sensor Type: resistive_sensor, Moisture Level: 93.86958185873536%\n",
      "Time: 2024-04-29 18:27:51.781716+00:00, Location: kitchen, Sensor Type: resistive_sensor, Moisture Level: 24.725607525192338%\n",
      "Time: 2024-04-29 18:42:42.042772+00:00, Location: kitchen, Sensor Type: resistive_sensor, Moisture Level: 37.52901189524586%\n",
      "Time: 2024-04-29 18:55:51.455117+00:00, Location: kitchen, Sensor Type: resistive_sensor, Moisture Level: 78.2177960564572%\n",
      "Time: 2024-04-29 19:23:51.037313+00:00, Location: kitchen, Sensor Type: resistive_sensor, Moisture Level: 60.399925498142615%\n",
      "Time: 2024-04-29 19:24:51.027933+00:00, Location: kitchen, Sensor Type: resistive_sensor, Moisture Level: 99.02278412830466%\n",
      "Time: 2024-04-29 19:29:50.978353+00:00, Location: kitchen, Sensor Type: resistive_sensor, Moisture Level: 38.289660037680484%\n",
      "Time: 2024-04-29 19:32:50.935909+00:00, Location: kitchen, Sensor Type: resistive_sensor, Moisture Level: 19.239769067485348%\n",
      "Time: 2024-04-29 19:33:50.925190+00:00, Location: kitchen, Sensor Type: resistive_sensor, Moisture Level: 17.14703976850751%\n",
      "Time: 2024-04-29 19:50:50.705579+00:00, Location: kitchen, Sensor Type: resistive_sensor, Moisture Level: 23.35855684916648%\n",
      "Time: 2024-04-29 17:24:42.613454+00:00, Location: living-room, Sensor Type: capacitive_sensor, Moisture Level: 92.45205441975715%\n",
      "Time: 2024-04-29 17:26:42.602449+00:00, Location: living-room, Sensor Type: capacitive_sensor, Moisture Level: 9.285015486938676%\n",
      "Time: 2024-04-29 17:48:42.489398+00:00, Location: living-room, Sensor Type: capacitive_sensor, Moisture Level: 49.192186626548384%\n",
      "Time: 2024-04-29 17:59:42.433348+00:00, Location: living-room, Sensor Type: capacitive_sensor, Moisture Level: 72.22280618910129%\n",
      "Time: 2024-04-29 18:00:42.428881+00:00, Location: living-room, Sensor Type: capacitive_sensor, Moisture Level: 70.12044893061872%\n",
      "Time: 2024-04-29 18:02:42.418730+00:00, Location: living-room, Sensor Type: capacitive_sensor, Moisture Level: 6.310829478776925%\n",
      "Time: 2024-04-29 18:08:42.380015+00:00, Location: living-room, Sensor Type: capacitive_sensor, Moisture Level: 72.1951695853856%\n",
      "Time: 2024-04-29 18:20:42.305027+00:00, Location: living-room, Sensor Type: capacitive_sensor, Moisture Level: 10.723437198658836%\n",
      "Time: 2024-04-29 18:25:51.814125+00:00, Location: living-room, Sensor Type: capacitive_sensor, Moisture Level: 82.18110550120711%\n",
      "Time: 2024-04-29 18:28:42.203200+00:00, Location: living-room, Sensor Type: capacitive_sensor, Moisture Level: 51.29741057329%\n",
      "Time: 2024-04-29 18:49:41.890142+00:00, Location: living-room, Sensor Type: capacitive_sensor, Moisture Level: 71.27872671339848%\n",
      "Time: 2024-04-29 18:51:41.846371+00:00, Location: living-room, Sensor Type: capacitive_sensor, Moisture Level: 33.65479652963857%\n",
      "Time: 2024-04-29 18:57:41.661246+00:00, Location: living-room, Sensor Type: capacitive_sensor, Moisture Level: 61.94916346416414%\n",
      "Time: 2024-04-29 18:57:51.429405+00:00, Location: living-room, Sensor Type: capacitive_sensor, Moisture Level: 9.561562934011015%\n",
      "Time: 2024-04-29 19:30:50.967408+00:00, Location: living-room, Sensor Type: capacitive_sensor, Moisture Level: 98.73074663372967%\n",
      "Time: 2024-04-29 19:37:50.883467+00:00, Location: living-room, Sensor Type: capacitive_sensor, Moisture Level: 67.59696199277127%\n",
      "Time: 2024-04-29 17:36:42.557519+00:00, Location: living-room, Sensor Type: conductive_sensor, Moisture Level: 46.37799530922487%\n",
      "Time: 2024-04-29 17:42:42.521819+00:00, Location: living-room, Sensor Type: conductive_sensor, Moisture Level: 22.396736301239496%\n",
      "Time: 2024-04-29 18:34:51.680074+00:00, Location: living-room, Sensor Type: conductive_sensor, Moisture Level: 6.346570162534338%\n",
      "Time: 2024-04-29 18:36:51.659251+00:00, Location: living-room, Sensor Type: conductive_sensor, Moisture Level: 15.964394078203414%\n",
      "Time: 2024-04-29 18:51:51.505587+00:00, Location: living-room, Sensor Type: conductive_sensor, Moisture Level: 44.36385549010837%\n",
      "Time: 2024-04-29 19:00:41.595979+00:00, Location: living-room, Sensor Type: conductive_sensor, Moisture Level: 18.283807555060516%\n",
      "Time: 2024-04-29 17:32:42.575098+00:00, Location: living-room, Sensor Type: resistive_sensor, Moisture Level: 45.968786853322044%\n",
      "Time: 2024-04-29 17:55:42.451108+00:00, Location: living-room, Sensor Type: resistive_sensor, Moisture Level: 94.85839411155882%\n",
      "Time: 2024-04-29 18:14:42.341603+00:00, Location: living-room, Sensor Type: resistive_sensor, Moisture Level: 80.83549389000635%\n",
      "Time: 2024-04-29 18:32:51.722247+00:00, Location: living-room, Sensor Type: resistive_sensor, Moisture Level: 19.953422398305023%\n",
      "Time: 2024-04-29 18:37:51.648083+00:00, Location: living-room, Sensor Type: resistive_sensor, Moisture Level: 34.95876792477962%\n",
      "Time: 2024-04-29 18:38:51.634911+00:00, Location: living-room, Sensor Type: resistive_sensor, Moisture Level: 23.89653337073473%\n",
      "Time: 2024-04-29 18:44:51.581076+00:00, Location: living-room, Sensor Type: resistive_sensor, Moisture Level: 23.752537566719546%\n",
      "Time: 2024-04-29 18:52:41.837183+00:00, Location: living-room, Sensor Type: resistive_sensor, Moisture Level: 80.08524864669909%\n",
      "Time: 2024-04-29 18:53:41.822023+00:00, Location: living-room, Sensor Type: resistive_sensor, Moisture Level: 95.05752751469512%\n",
      "Time: 2024-04-29 18:56:41.701528+00:00, Location: living-room, Sensor Type: resistive_sensor, Moisture Level: 71.88692045120504%\n",
      "Time: 2024-04-29 19:00:51.384992+00:00, Location: living-room, Sensor Type: resistive_sensor, Moisture Level: 55.59053030737007%\n",
      "Time: 2024-04-29 19:34:50.915252+00:00, Location: living-room, Sensor Type: resistive_sensor, Moisture Level: 47.37430271075092%\n",
      "Time: 2024-04-29 19:46:50.781220+00:00, Location: living-room, Sensor Type: resistive_sensor, Moisture Level: 66.73121194300452%\n",
      "Time: 2024-04-29 19:47:50.771546+00:00, Location: living-room, Sensor Type: resistive_sensor, Moisture Level: 92.10780399658783%\n",
      "Time: 2024-04-29 19:49:50.722959+00:00, Location: living-room, Sensor Type: resistive_sensor, Moisture Level: 26.892492861297036%\n"
     ]
    }
   ],
   "source": [
    "query = '''\n",
    "    from(bucket: \"Big_Data_Task1\")\n",
    "        |> range(start: -10h)\n",
    "        |> filter(fn: (r) => r[\"_measurement\"] == \"moisture_level\")\n",
    "'''\n",
    "\n",
    "query_api = client.query_api()\n",
    "result = query_api.query(org=\"FH_Kiel\", query=query)\n",
    "\n",
    "for table in result:\n",
    "    for record in table.records:\n",
    "        time = record.get_time()\n",
    "        location = record['location']\n",
    "        sensor_type = record['sensor_type']\n",
    "        moisture_level = record['_value']\n",
    "        print(f\"Time: {time}, Location: {location}, Sensor Type: {sensor_type}, Moisture Level: {moisture_level}%\")\n"
   ]
  }
 ],
 "metadata": {
  "kernelspec": {
   "display_name": "BDA24",
   "language": "python",
   "name": "python3"
  },
  "language_info": {
   "codemirror_mode": {
    "name": "ipython",
    "version": 3
   },
   "file_extension": ".py",
   "mimetype": "text/x-python",
   "name": "python",
   "nbconvert_exporter": "python",
   "pygments_lexer": "ipython3",
   "version": "3.11.5"
  }
 },
 "nbformat": 4,
 "nbformat_minor": 2
}
